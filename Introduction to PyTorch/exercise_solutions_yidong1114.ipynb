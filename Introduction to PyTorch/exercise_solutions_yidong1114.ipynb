{
  "cells": [
    {
      "cell_type": "markdown",
      "metadata": {
        "id": "UaDCiELV1-45"
      },
      "source": [
        "<table style=\"width:100%\">\n",
        "<tr>\n",
        "<td style=\"vertical-align:middle; text-align:left;\">\n",
        "<font size=\"2\">\n",
        "Supplementary code for the <a href=\"http://mng.bz/orYv\">Build a Large Language Model From Scratch</a> book by <a href=\"https://sebastianraschka.com\">Sebastian Raschka</a><br>\n",
        "<br>Code repository: <a href=\"https://github.com/rasbt/LLMs-from-scratch\">https://github.com/rasbt/LLMs-from-scratch</a>\n",
        "</font>\n",
        "</td>\n",
        "<td style=\"vertical-align:middle; text-align:left;\">\n",
        "<a href=\"http://mng.bz/orYv\"><img src=\"https://sebastianraschka.com/images/LLMs-from-scratch-images/cover-small.webp\" width=\"100px\"></a>\n",
        "</td>\n",
        "</tr>\n",
        "</table>\n"
      ]
    },
    {
      "cell_type": "markdown",
      "metadata": {
        "id": "G1wAu_VG1-5C"
      },
      "source": [
        "## Exercise A.1"
      ]
    },
    {
      "cell_type": "markdown",
      "metadata": {
        "id": "vndHlNu61-5G"
      },
      "source": [
        "The [Python Setup Tips](../../setup/01_optional-python-setup-preferences/README.md) document in this repository contains additional recommendations and tips to set up your Python environment.\n"
      ]
    },
    {
      "cell_type": "markdown",
      "metadata": {
        "id": "9zQKIj9e1-5I"
      },
      "source": [
        "## Exercise A.2"
      ]
    },
    {
      "cell_type": "markdown",
      "metadata": {
        "id": "YNaizW-w1-5L"
      },
      "source": [
        "The [Installing Libraries Used In This Book document](../../setup/02_installing-python-libraries/README.md) and [directory](../../setup/02_installing-python-libraries/) contains utilities to check whether your environment is set up correctly."
      ]
    },
    {
      "cell_type": "markdown",
      "metadata": {
        "id": "9NwUbkUa1-5M"
      },
      "source": [
        "## Exercise A.3"
      ]
    },
    {
      "cell_type": "code",
      "execution_count": 1,
      "metadata": {
        "id": "IA1g0KM-1-5P"
      },
      "outputs": [],
      "source": [
        "import torch\n",
        "\n",
        "class NeuralNetwork(torch.nn.Module):\n",
        "    def __init__(self, num_inputs, num_outputs):\n",
        "        super().__init__()\n",
        "\n",
        "        self.layers = torch.nn.Sequential(\n",
        "\n",
        "            # 1st hidden layer\n",
        "            torch.nn.Linear(num_inputs, 30),\n",
        "            torch.nn.ReLU(),\n",
        "\n",
        "            # 2nd hidden layer\n",
        "            torch.nn.Linear(30, 20),\n",
        "            torch.nn.ReLU(),\n",
        "\n",
        "            # output layer\n",
        "            torch.nn.Linear(20, num_outputs),\n",
        "        )\n",
        "\n",
        "    def forward(self, x):\n",
        "        logits = self.layers(x)\n",
        "        return logits"
      ]
    },
    {
      "cell_type": "code",
      "execution_count": 4,
      "metadata": {
        "colab": {
          "base_uri": "https://localhost:8080/"
        },
        "id": "AQ8rDmb-1-5T",
        "outputId": "421c35e6-5663-444f-ecf1-8dd0b74258a4"
      },
      "outputs": [
        {
          "output_type": "stream",
          "name": "stdout",
          "text": [
            "Total number of trainable model parameters: 752\n"
          ]
        }
      ],
      "source": [
        "model = NeuralNetwork(2, 2) ## input number=2 output number=2\n",
        "\n",
        "num_params = sum(p.numel() for p in model.parameters() if p.requires_grad)\n",
        "print(\"Total number of trainable model parameters:\", num_params)\n",
        "\n",
        "## mannually caculate:\n",
        "## 1st layer: 2*30+30 =90\n",
        "## 2nd layer: 30*20+20 = 620\n",
        "## output layer: 20*2+2 =42\n",
        "## total : 90+620+42 = 752"
      ]
    },
    {
      "cell_type": "markdown",
      "metadata": {
        "id": "wybsFB101-5Y"
      },
      "source": [
        "## Exercise A.4"
      ]
    },
    {
      "cell_type": "code",
      "execution_count": 6,
      "metadata": {
        "id": "qGgnamiyLJxp",
        "colab": {
          "base_uri": "https://localhost:8080/"
        },
        "outputId": "225a80eb-cb8b-479a-a783-1a6da8b8dd9f"
      },
      "outputs": [
        {
          "output_type": "stream",
          "name": "stdout",
          "text": [
            "tensor([[0.7597, 0.8016, 0.4417,  ..., 0.4543, 0.1756, 0.3227],\n",
            "        [0.7585, 0.1351, 0.5810,  ..., 0.1335, 0.0017, 0.0683],\n",
            "        [0.0682, 0.8608, 0.9901,  ..., 0.2823, 0.2850, 0.2126],\n",
            "        ...,\n",
            "        [0.6667, 0.9453, 0.1031,  ..., 0.2054, 0.7348, 0.3369],\n",
            "        [0.2169, 0.0404, 0.4189,  ..., 0.9215, 0.6618, 0.4964],\n",
            "        [0.8226, 0.9429, 0.7213,  ..., 0.2168, 0.8907, 0.5508]])\n",
            "tensor([[0.6896, 0.7323, 0.7315,  ..., 0.2434, 0.2866, 0.9092],\n",
            "        [0.4191, 0.4545, 0.2039,  ..., 0.7544, 0.3744, 0.1544],\n",
            "        [0.3551, 0.2192, 0.7510,  ..., 0.5001, 0.6294, 0.3473],\n",
            "        ...,\n",
            "        [0.7554, 0.0848, 0.0632,  ..., 0.6037, 0.9449, 0.7284],\n",
            "        [0.1391, 0.2076, 0.4227,  ..., 0.5124, 0.1979, 0.2125],\n",
            "        [0.1210, 0.3526, 0.5718,  ..., 0.9851, 0.7233, 0.7917]])\n"
          ]
        }
      ],
      "source": [
        "import torch\n",
        "## create two matrix\n",
        "a = torch.rand(100, 200)\n",
        "print(a)\n",
        "b = torch.rand(200, 300)\n",
        "print(b)"
      ]
    },
    {
      "cell_type": "code",
      "execution_count": 8,
      "metadata": {
        "colab": {
          "base_uri": "https://localhost:8080/"
        },
        "id": "CvGvIeVkLzXE",
        "outputId": "0c2ac938-15a3-4fa0-f975-6c0d852319f8"
      },
      "outputs": [
        {
          "output_type": "stream",
          "name": "stdout",
          "text": [
            "176 µs ± 38.9 µs per loop (mean ± std. dev. of 7 runs, 10000 loops each)\n"
          ]
        }
      ],
      "source": [
        "%timeit a @ b ## on CPU"
      ]
    },
    {
      "cell_type": "code",
      "source": [
        "%timeit a.matmul(b) # on CPU"
      ],
      "metadata": {
        "colab": {
          "base_uri": "https://localhost:8080/"
        },
        "id": "CLVicEid3_Tp",
        "outputId": "0ef1d785-35e9-4b77-d72a-5c9b259335cb"
      },
      "execution_count": 9,
      "outputs": [
        {
          "output_type": "stream",
          "name": "stdout",
          "text": [
            "174 µs ± 26.6 µs per loop (mean ± std. dev. of 7 runs, 10000 loops each)\n"
          ]
        }
      ]
    },
    {
      "cell_type": "code",
      "execution_count": 10,
      "metadata": {
        "id": "OmRtZLa9L2ZG"
      },
      "outputs": [],
      "source": [
        "a, b = a.to(\"cuda\"), b.to(\"cuda\") ## transfer tensors from cup to gpu"
      ]
    },
    {
      "cell_type": "code",
      "execution_count": 11,
      "metadata": {
        "colab": {
          "base_uri": "https://localhost:8080/"
        },
        "id": "duLEhXDPL6k0",
        "outputId": "96946ef7-a390-4b5f-831b-3aaa4786872e"
      },
      "outputs": [
        {
          "output_type": "stream",
          "name": "stdout",
          "text": [
            "11.9 µs ± 911 ns per loop (mean ± std. dev. of 7 runs, 100000 loops each)\n"
          ]
        }
      ],
      "source": [
        "%timeit a @ b"
      ]
    },
    {
      "cell_type": "code",
      "source": [
        "%timeit a.matmul(b)"
      ],
      "metadata": {
        "colab": {
          "base_uri": "https://localhost:8080/"
        },
        "id": "oc7cp9-44vVt",
        "outputId": "13688f2c-6a4e-4ee3-bd9e-2dec5ff237df"
      },
      "execution_count": 12,
      "outputs": [
        {
          "output_type": "stream",
          "name": "stdout",
          "text": [
            "11.3 µs ± 1.39 µs per loop (mean ± std. dev. of 7 runs, 100000 loops each)\n"
          ]
        }
      ]
    },
    {
      "cell_type": "code",
      "source": [],
      "metadata": {
        "id": "aKq6nyLU42Gl"
      },
      "execution_count": null,
      "outputs": []
    }
  ],
  "metadata": {
    "accelerator": "GPU",
    "colab": {
      "gpuType": "T4",
      "provenance": []
    },
    "kernelspec": {
      "display_name": "Python 3",
      "name": "python3"
    },
    "language_info": {
      "codemirror_mode": {
        "name": "ipython",
        "version": 3
      },
      "file_extension": ".py",
      "mimetype": "text/x-python",
      "name": "python",
      "nbconvert_exporter": "python",
      "pygments_lexer": "ipython3",
      "version": "3.10.6"
    }
  },
  "nbformat": 4,
  "nbformat_minor": 0
}